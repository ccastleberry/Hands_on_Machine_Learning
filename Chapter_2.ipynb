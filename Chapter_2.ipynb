{
 "cells": [
  {
   "cell_type": "markdown",
   "metadata": {},
   "source": [
    "# Chapter 2 End-to-End Machine Learning Project\n",
    "This notebook is for working through the second chapter of \n",
    "\n",
    "*Hands on Machine Learning with Scikit-Learn and Tensoflow*\n",
    "\n",
    "We will go through the following steps:\n",
    "\n",
    "1. Look at the big picture\n",
    "2. Get the data\n",
    "3. Discover and visualize the data to gain insights\n",
    "4. Prepare the data for machine learning algorithms\n",
    "5. Select a model and train it\n",
    "6. Fine-tune the model\n",
    "7. Present the solution\n",
    "8. Launch, monitor, and maintain the system\n"
   ]
  },
  {
   "cell_type": "code",
   "execution_count": null,
   "metadata": {
    "collapsed": true
   },
   "outputs": [],
   "source": []
  }
 ],
 "metadata": {
  "kernelspec": {
   "display_name": "Python 3",
   "language": "python",
   "name": "python3"
  },
  "language_info": {
   "codemirror_mode": {
    "name": "ipython",
    "version": 3
   },
   "file_extension": ".py",
   "mimetype": "text/x-python",
   "name": "python",
   "nbconvert_exporter": "python",
   "pygments_lexer": "ipython3",
   "version": "3.6.1"
  }
 },
 "nbformat": 4,
 "nbformat_minor": 2
}
